{
  "nbformat": 4,
  "nbformat_minor": 0,
  "metadata": {
    "kernelspec": {
      "display_name": "Python 3",
      "language": "python",
      "name": "python3"
    },
    "language_info": {
      "codemirror_mode": {
        "name": "ipython",
        "version": 3
      },
      "file_extension": ".py",
      "mimetype": "text/x-python",
      "name": "python",
      "nbconvert_exporter": "python",
      "pygments_lexer": "ipython3",
      "version": "3.6.6"
    },
    "colab": {
      "name": "Dmytro_Chapter03ex.ipynb",
      "version": "0.3.2",
      "provenance": [],
      "include_colab_link": true
    }
  },
  "cells": [
    {
      "cell_type": "markdown",
      "metadata": {
        "id": "view-in-github",
        "colab_type": "text"
      },
      "source": [
        "<a href=\"https://colab.research.google.com/github/androidua/ThinkStats_study/blob/master/Dmytro_Chapter03ex.ipynb\" target=\"_parent\"><img src=\"https://colab.research.google.com/assets/colab-badge.svg\" alt=\"Open In Colab\"/></a>"
      ]
    },
    {
      "cell_type": "code",
      "metadata": {
        "id": "10dVpih-SaJ6",
        "colab_type": "code",
        "outputId": "992b83db-5cb7-4ae0-d005-d3ceb4eb9437",
        "colab": {
          "base_uri": "https://localhost:8080/",
          "height": 148
        }
      },
      "source": [
        "#setup thinkstats on colabs.\n",
        "\n",
        "!git clone https://github.com/AllenDowney/ThinkStats2\n",
        "!cp -r /content/ThinkStats2/code/* ."
      ],
      "execution_count": 0,
      "outputs": [
        {
          "output_type": "stream",
          "text": [
            "Cloning into 'ThinkStats2'...\n",
            "remote: Enumerating objects: 2638, done.\u001b[K\n",
            "remote: Total 2638 (delta 0), reused 0 (delta 0), pack-reused 2638\u001b[K\n",
            "Receiving objects: 100% (2638/2638), 171.99 MiB | 28.77 MiB/s, done.\n",
            "Resolving deltas: 100% (1486/1486), done.\n",
            "Checking out files: 100% (482/482), done.\n"
          ],
          "name": "stdout"
        }
      ]
    },
    {
      "cell_type": "markdown",
      "metadata": {
        "id": "1o1VQ7UGSYJu",
        "colab_type": "text"
      },
      "source": [
        "# Examples and Exercises from Think Stats, 2nd Edition\n",
        "\n",
        "http://thinkstats2.com\n",
        "\n",
        "Copyright 2016 Allen B. Downey\n",
        "\n",
        "MIT License: https://opensource.org/licenses/MIT\n"
      ]
    },
    {
      "cell_type": "code",
      "metadata": {
        "id": "nVevt-MTSYJv",
        "colab_type": "code",
        "colab": {}
      },
      "source": [
        "from __future__ import print_function, division\n",
        "\n",
        "%matplotlib inline\n",
        "\n",
        "import numpy as np\n",
        "\n",
        "import nsfg\n",
        "import first\n",
        "import thinkstats2\n",
        "import thinkplot"
      ],
      "execution_count": 0,
      "outputs": []
    },
    {
      "cell_type": "markdown",
      "metadata": {
        "id": "AdnkHj9VSYJx",
        "colab_type": "text"
      },
      "source": [
        "Again, I'll load the NSFG pregnancy file and select live births:"
      ]
    },
    {
      "cell_type": "code",
      "metadata": {
        "id": "hPJIePsvSYJy",
        "colab_type": "code",
        "colab": {}
      },
      "source": [
        "preg = nsfg.ReadFemPreg()\n",
        "live = preg[preg.outcome == 1]"
      ],
      "execution_count": 0,
      "outputs": []
    },
    {
      "cell_type": "markdown",
      "metadata": {
        "id": "DxtXzx9_SYJ1",
        "colab_type": "text"
      },
      "source": [
        "Here's the histogram of birth weights:"
      ]
    },
    {
      "cell_type": "code",
      "metadata": {
        "id": "eJL4_DzuSYJ2",
        "colab_type": "code",
        "outputId": "5b7a359c-ba09-46c8-dcd3-0530c9fa8efc",
        "colab": {
          "base_uri": "https://localhost:8080/",
          "height": 283
        }
      },
      "source": [
        "hist = thinkstats2.Hist(live.birthwgt_lb, label='birthwgt_lb')\n",
        "thinkplot.Hist(hist)\n",
        "thinkplot.Config(xlabel='Birth weight (pounds)', ylabel='Count')"
      ],
      "execution_count": 0,
      "outputs": [
        {
          "output_type": "display_data",
          "data": {
            "image/png": "[encoded data removed]",
            "text/plain": [
              "<Figure size 432x288 with 1 Axes>"
            ]
          },
          "metadata": {
            "tags": []
          }
        }
      ]
    },
    {
      "cell_type": "markdown",
      "metadata": {
        "id": "PFnSGPDNSYJ6",
        "colab_type": "text"
      },
      "source": [
        "To normalize the disrtibution, we could divide through by the total count:"
      ]
    },
    {
      "cell_type": "code",
      "metadata": {
        "id": "1mzkZej7SYJ6",
        "colab_type": "code",
        "colab": {}
      },
      "source": [
        "n = hist.Total()\n",
        "pmf = hist.Copy()\n",
        "for x, freq in hist.Items():\n",
        "    pmf[x] = freq / n\n",
        "    \n"
      ],
      "execution_count": 0,
      "outputs": []
    },
    {
      "cell_type": "markdown",
      "metadata": {
        "id": "w93S_FbJSYJ8",
        "colab_type": "text"
      },
      "source": [
        "The result is a Probability Mass Function (PMF)."
      ]
    },
    {
      "cell_type": "code",
      "metadata": {
        "id": "uQ0vJBpfSYJ8",
        "colab_type": "code",
        "outputId": "65157bb7-7cba-43a2-932c-16978be578aa",
        "colab": {
          "base_uri": "https://localhost:8080/",
          "height": 283
        }
      },
      "source": [
        "thinkplot.Hist(pmf)\n",
        "thinkplot.Config(xlabel='Birth weight (pounds)', ylabel='PMF')"
      ],
      "execution_count": 0,
      "outputs": [
        {
          "output_type": "display_data",
          "data": {
            "image/png": "[encoded data removed]",
            "text/plain": [
              "<Figure size 432x288 with 1 Axes>"
            ]
          },
          "metadata": {
            "tags": []
          }
        }
      ]
    },
    {
      "cell_type": "markdown",
      "metadata": {
        "id": "JUvGnD6oSYJ-",
        "colab_type": "text"
      },
      "source": [
        "More directly, we can create a Pmf object."
      ]
    },
    {
      "cell_type": "code",
      "metadata": {
        "id": "0J5VK3jGSYJ_",
        "colab_type": "code",
        "outputId": "72b42410-d9e0-4484-9abb-ceafce64b5c7",
        "colab": {
          "base_uri": "https://localhost:8080/",
          "height": 34
        }
      },
      "source": [
        "pmf = thinkstats2.Pmf([1, 2, 2, 3, 5])\n",
        "pmf"
      ],
      "execution_count": 0,
      "outputs": [
        {
          "output_type": "execute_result",
          "data": {
            "text/plain": [
              "Pmf({1: 0.2, 2: 0.4, 3: 0.2, 5: 0.2})"
            ]
          },
          "metadata": {
            "tags": []
          },
          "execution_count": 10
        }
      ]
    },
    {
      "cell_type": "markdown",
      "metadata": {
        "id": "ql46LCVhSYKA",
        "colab_type": "text"
      },
      "source": [
        "`Pmf` provides `Prob`, which looks up a value and returns its probability:"
      ]
    },
    {
      "cell_type": "code",
      "metadata": {
        "id": "1WPPtxfDSYKB",
        "colab_type": "code",
        "outputId": "b3f191c3-cc2a-4c68-d84f-762e64ce0c81",
        "colab": {
          "base_uri": "https://localhost:8080/",
          "height": 34
        }
      },
      "source": [
        "pmf.Prob(2)"
      ],
      "execution_count": 0,
      "outputs": [
        {
          "output_type": "execute_result",
          "data": {
            "text/plain": [
              "0.4"
            ]
          },
          "metadata": {
            "tags": []
          },
          "execution_count": 11
        }
      ]
    },
    {
      "cell_type": "markdown",
      "metadata": {
        "id": "QquUptHHSYKD",
        "colab_type": "text"
      },
      "source": [
        "The bracket operator does the same thing."
      ]
    },
    {
      "cell_type": "code",
      "metadata": {
        "id": "vhEHfU4xSYKD",
        "colab_type": "code",
        "outputId": "f467abf0-0293-4ceb-cc0a-5435f9bd4ee4",
        "colab": {
          "base_uri": "https://localhost:8080/",
          "height": 34
        }
      },
      "source": [
        "pmf[2]"
      ],
      "execution_count": 0,
      "outputs": [
        {
          "output_type": "execute_result",
          "data": {
            "text/plain": [
              "0.4"
            ]
          },
          "metadata": {
            "tags": []
          },
          "execution_count": 12
        }
      ]
    },
    {
      "cell_type": "markdown",
      "metadata": {
        "id": "abM7d2UGSYKF",
        "colab_type": "text"
      },
      "source": [
        "The `Incr` method adds to the probability associated with a given values."
      ]
    },
    {
      "cell_type": "code",
      "metadata": {
        "id": "TRLtie2QSYKG",
        "colab_type": "code",
        "outputId": "9062874d-864e-4b82-f1e5-00cdb99d41dd",
        "colab": {
          "base_uri": "https://localhost:8080/",
          "height": 34
        }
      },
      "source": [
        "pmf.Incr(2, 0.2)\n",
        "pmf[2]"
      ],
      "execution_count": 0,
      "outputs": [
        {
          "output_type": "execute_result",
          "data": {
            "text/plain": [
              "0.6000000000000001"
            ]
          },
          "metadata": {
            "tags": []
          },
          "execution_count": 13
        }
      ]
    },
    {
      "cell_type": "markdown",
      "metadata": {
        "id": "CUDBor88SYKI",
        "colab_type": "text"
      },
      "source": [
        "The `Mult` method multiplies the probability associated with a value."
      ]
    },
    {
      "cell_type": "code",
      "metadata": {
        "id": "pqBII9UkSYKJ",
        "colab_type": "code",
        "outputId": "c139fa94-10cd-4115-97bc-70fc63ae9403",
        "colab": {
          "base_uri": "https://localhost:8080/",
          "height": 34
        }
      },
      "source": [
        "pmf.Mult(2, 0.5)\n",
        "pmf[2]"
      ],
      "execution_count": 0,
      "outputs": [
        {
          "output_type": "execute_result",
          "data": {
            "text/plain": [
              "0.30000000000000004"
            ]
          },
          "metadata": {
            "tags": []
          },
          "execution_count": 14
        }
      ]
    },
    {
      "cell_type": "markdown",
      "metadata": {
        "id": "Mh5t6DbySYKL",
        "colab_type": "text"
      },
      "source": [
        "`Total` returns the total probability (which is no longer 1, because we changed one of the probabilities)."
      ]
    },
    {
      "cell_type": "code",
      "metadata": {
        "id": "Sjz4klVoSYKL",
        "colab_type": "code",
        "outputId": "8a5b620d-b170-48c0-e201-9a0bdd4b20a9",
        "colab": {
          "base_uri": "https://localhost:8080/",
          "height": 34
        }
      },
      "source": [
        "pmf.Total()"
      ],
      "execution_count": 0,
      "outputs": [
        {
          "output_type": "execute_result",
          "data": {
            "text/plain": [
              "0.8999999999999999"
            ]
          },
          "metadata": {
            "tags": []
          },
          "execution_count": 15
        }
      ]
    },
    {
      "cell_type": "markdown",
      "metadata": {
        "id": "rM_zsvRiSYKN",
        "colab_type": "text"
      },
      "source": [
        "`Normalize` divides through by the total probability, making it 1 again."
      ]
    },
    {
      "cell_type": "code",
      "metadata": {
        "id": "MSucMvvRSYKO",
        "colab_type": "code",
        "outputId": "ae95a563-b5e3-4ae6-b95c-9ec59c7b9381",
        "colab": {
          "base_uri": "https://localhost:8080/",
          "height": 34
        }
      },
      "source": [
        "pmf.Normalize()\n",
        "pmf.Total()"
      ],
      "execution_count": 0,
      "outputs": [
        {
          "output_type": "execute_result",
          "data": {
            "text/plain": [
              "1.0"
            ]
          },
          "metadata": {
            "tags": []
          },
          "execution_count": 16
        }
      ]
    },
    {
      "cell_type": "markdown",
      "metadata": {
        "id": "F31Bx3g0SYKQ",
        "colab_type": "text"
      },
      "source": [
        "Here's the PMF of pregnancy length for live births."
      ]
    },
    {
      "cell_type": "code",
      "metadata": {
        "id": "It7iPSPCSYKQ",
        "colab_type": "code",
        "colab": {}
      },
      "source": [
        "pmf = thinkstats2.Pmf(live.prglngth, label='prglngth')"
      ],
      "execution_count": 0,
      "outputs": []
    },
    {
      "cell_type": "markdown",
      "metadata": {
        "id": "DxBgPvXYSYKS",
        "colab_type": "text"
      },
      "source": [
        "Here's what it looks like plotted with `Hist`, which makes a bar graph."
      ]
    },
    {
      "cell_type": "code",
      "metadata": {
        "id": "x5xUUR1mSYKT",
        "colab_type": "code",
        "outputId": "6d2b5e3e-4a3b-44fd-e6f3-c105bc0fb2dd",
        "colab": {
          "base_uri": "https://localhost:8080/",
          "height": 283
        }
      },
      "source": [
        "thinkplot.Hist(pmf)\n",
        "thinkplot.Config(xlabel='Pregnancy length (weeks)', ylabel='Pmf')"
      ],
      "execution_count": 0,
      "outputs": [
        {
          "output_type": "display_data",
          "data": {
            "image/png": "[encoded data removed]",
            "text/plain": [
              "<Figure size 432x288 with 1 Axes>"
            ]
          },
          "metadata": {
            "tags": []
          }
        }
      ]
    },
    {
      "cell_type": "markdown",
      "metadata": {
        "id": "YC-y7eXOSYKU",
        "colab_type": "text"
      },
      "source": [
        "Here's what it looks like plotted with `Pmf`, which makes a step function."
      ]
    },
    {
      "cell_type": "code",
      "metadata": {
        "id": "iINopBUHSYKV",
        "colab_type": "code",
        "outputId": "b51721ed-d640-46f4-aad7-6494b909f34d",
        "colab": {
          "base_uri": "https://localhost:8080/",
          "height": 283
        }
      },
      "source": [
        "thinkplot.Pmf(pmf)\n",
        "thinkplot.Config(xlabel='Pregnancy length (weeks)', ylabel='Pmf')"
      ],
      "execution_count": 0,
      "outputs": [
        {
          "output_type": "display_data",
          "data": {
            "image/png": "[encoded data removed]",
            "text/plain": [
              "<Figure size 432x288 with 1 Axes>"
            ]
          },
          "metadata": {
            "tags": []
          }
        }
      ]
    },
    {
      "cell_type": "markdown",
      "metadata": {
        "id": "aMZgZHjMSYKX",
        "colab_type": "text"
      },
      "source": [
        "We can use `MakeFrames` to return DataFrames for all live births, first babies, and others."
      ]
    },
    {
      "cell_type": "code",
      "metadata": {
        "id": "89lgAs-YSYKY",
        "colab_type": "code",
        "colab": {}
      },
      "source": [
        "live, firsts, others = first.MakeFrames()"
      ],
      "execution_count": 0,
      "outputs": []
    },
    {
      "cell_type": "markdown",
      "metadata": {
        "id": "e9tNrol1SYKc",
        "colab_type": "text"
      },
      "source": [
        "Here are the distributions of pregnancy length."
      ]
    },
    {
      "cell_type": "code",
      "metadata": {
        "id": "i9wdjRwDSYKd",
        "colab_type": "code",
        "colab": {}
      },
      "source": [
        "first_pmf = thinkstats2.Pmf(firsts.prglngth, label='firsts')\n",
        "other_pmf = thinkstats2.Pmf(others.prglngth, label='others')"
      ],
      "execution_count": 0,
      "outputs": []
    },
    {
      "cell_type": "markdown",
      "metadata": {
        "id": "bpIxf_ouSYKf",
        "colab_type": "text"
      },
      "source": [
        "And here's the code that replicates one of the figures in the chapter."
      ]
    },
    {
      "cell_type": "code",
      "metadata": {
        "id": "i9w0N8KISYKf",
        "colab_type": "code",
        "outputId": "32cd2fc4-ebe4-4d07-fbb5-59c88da560ea",
        "colab": {
          "base_uri": "https://localhost:8080/",
          "height": 392
        }
      },
      "source": [
        "width=0.45\n",
        "axis = [27, 46, 0, 0.6]\n",
        "thinkplot.PrePlot(2, cols=2)\n",
        "thinkplot.Hist(first_pmf, align='right', width=width)\n",
        "thinkplot.Hist(other_pmf, align='left', width=width)\n",
        "thinkplot.Config(xlabel='Pregnancy length(weeks)', ylabel='PMF', axis=axis)\n",
        "\n",
        "thinkplot.PrePlot(2)\n",
        "thinkplot.SubPlot(2)\n",
        "thinkplot.Pmfs([first_pmf, other_pmf])\n",
        "thinkplot.Config(xlabel='Pregnancy length(weeks)', axis=axis)"
      ],
      "execution_count": 0,
      "outputs": [
        {
          "output_type": "display_data",
          "data": {
            "image/png": "[encoded data removed]",
            "text/plain": [
              "<Figure size 864x432 with 2 Axes>"
            ]
          },
          "metadata": {
            "tags": []
          }
        }
      ]
    },
    {
      "cell_type": "markdown",
      "metadata": {
        "id": "ZDspvCHSSYKh",
        "colab_type": "text"
      },
      "source": [
        "Here's the code that generates a plot of the difference in probability (in percentage points) between first babies and others, for each week of pregnancy (showing only pregnancies considered \"full term\"). "
      ]
    },
    {
      "cell_type": "code",
      "metadata": {
        "id": "Osvo0yZASYKh",
        "colab_type": "code",
        "outputId": "af0581ea-3f6f-4711-f586-5d984e855644",
        "colab": {
          "base_uri": "https://localhost:8080/",
          "height": 283
        }
      },
      "source": [
        "weeks = range(35, 46)\n",
        "diffs = []\n",
        "for week in weeks:\n",
        "    p1 = first_pmf.Prob(week)\n",
        "    p2 = other_pmf.Prob(week)\n",
        "    diff = 100 * (p1 - p2)\n",
        "    diffs.append(diff)\n",
        "\n",
        "thinkplot.Bar(weeks, diffs)\n",
        "thinkplot.Config(xlabel='Pregnancy length(weeks)', ylabel='Difference (percentage points)')\n"
      ],
      "execution_count": 0,
      "outputs": [
        {
          "output_type": "display_data",
          "data": {
            "image/png": "[encoded data removed]",
            "text/plain": [
              "<Figure size 432x288 with 1 Axes>"
            ]
          },
          "metadata": {
            "tags": []
          }
        }
      ]
    },
    {
      "cell_type": "markdown",
      "metadata": {
        "id": "t_-idVEZSYKj",
        "colab_type": "text"
      },
      "source": [
        "### Biasing and unbiasing PMFs\n",
        "\n",
        "Here's the example in the book showing operations we can perform with `Pmf` objects.\n",
        "\n",
        "Suppose we have the following distribution of class sizes."
      ]
    },
    {
      "cell_type": "code",
      "metadata": {
        "id": "HvART8VqSYKk",
        "colab_type": "code",
        "colab": {}
      },
      "source": [
        "d = { 7: 8, 12: 8, 17: 14, 22: 4, \n",
        "     27: 6, 32: 12, 37: 8, 42: 3, 47: 2 }\n",
        "\n",
        "pmf = thinkstats2.Pmf(d, label='actual')"
      ],
      "execution_count": 0,
      "outputs": []
    },
    {
      "cell_type": "markdown",
      "metadata": {
        "id": "SYiJbHOcSYKm",
        "colab_type": "text"
      },
      "source": [
        "This function computes the biased PMF we would get if we surveyed students and asked about the size of the classes they are in."
      ]
    },
    {
      "cell_type": "code",
      "metadata": {
        "id": "WbhmT4euSYKm",
        "colab_type": "code",
        "colab": {}
      },
      "source": [
        "def BiasPmf(pmf, label):\n",
        "    new_pmf = pmf.Copy(label=label)\n",
        "\n",
        "    for x, p in pmf.Items():\n",
        "        new_pmf.Mult(x, x)\n",
        "        \n",
        "    new_pmf.Normalize()\n",
        "    return new_pmf\n"
      ],
      "execution_count": 0,
      "outputs": []
    },
    {
      "cell_type": "markdown",
      "metadata": {
        "id": "_OC4Uc9xSYKo",
        "colab_type": "text"
      },
      "source": [
        "The following graph shows the difference between the actual and observed distributions."
      ]
    },
    {
      "cell_type": "code",
      "metadata": {
        "id": "jn9LoXeASYKo",
        "colab_type": "code",
        "outputId": "b95fe0f6-5ff0-4a3d-fc6f-4b62c335e30b",
        "colab": {
          "base_uri": "https://localhost:8080/",
          "height": 283
        }
      },
      "source": [
        "biased_pmf = BiasPmf(pmf, label='observed')\n",
        "thinkplot.PrePlot(2)\n",
        "thinkplot.Pmfs([pmf, biased_pmf])\n",
        "thinkplot.Config(xlabel='Class size', ylabel='PMF')"
      ],
      "execution_count": 0,
      "outputs": [
        {
          "output_type": "display_data",
          "data": {
            "image/png": "[encoded data removed]",
            "text/plain": [
              "<Figure size 432x288 with 1 Axes>"
            ]
          },
          "metadata": {
            "tags": []
          }
        }
      ]
    },
    {
      "cell_type": "markdown",
      "metadata": {
        "id": "vrrfBIU0SYKr",
        "colab_type": "text"
      },
      "source": [
        "The observed mean is substantially higher than the actual."
      ]
    },
    {
      "cell_type": "code",
      "metadata": {
        "id": "V-Y4uOD1SYKr",
        "colab_type": "code",
        "outputId": "e9d796bc-0505-4a6f-e8cb-7e9c48011835",
        "colab": {
          "base_uri": "https://localhost:8080/",
          "height": 51
        }
      },
      "source": [
        "print('Actual mean', pmf.Mean())\n",
        "print('Observed mean', biased_pmf.Mean())"
      ],
      "execution_count": 0,
      "outputs": [
        {
          "output_type": "stream",
          "text": [
            "Actual mean 23.692307692307693\n",
            "Observed mean 29.123376623376625\n"
          ],
          "name": "stdout"
        }
      ]
    },
    {
      "cell_type": "markdown",
      "metadata": {
        "id": "9a3bCI-BSYKt",
        "colab_type": "text"
      },
      "source": [
        "If we were only able to collect the biased sample, we could \"unbias\" it by applying the inverse operation."
      ]
    },
    {
      "cell_type": "code",
      "metadata": {
        "id": "ooFCelOOSYKu",
        "colab_type": "code",
        "colab": {}
      },
      "source": [
        "def UnbiasPmf(pmf, label=None):\n",
        "    new_pmf = pmf.Copy(label=label)\n",
        "\n",
        "    for x, p in pmf.Items():\n",
        "        new_pmf[x] *= 1/x\n",
        "        \n",
        "    new_pmf.Normalize()\n",
        "    return new_pmf"
      ],
      "execution_count": 0,
      "outputs": []
    },
    {
      "cell_type": "markdown",
      "metadata": {
        "id": "tsQQlMAJSYKw",
        "colab_type": "text"
      },
      "source": [
        "We can unbias the biased PMF:"
      ]
    },
    {
      "cell_type": "code",
      "metadata": {
        "id": "QOXBW00OSYKw",
        "colab_type": "code",
        "outputId": "b3ba7855-8f29-4708-f102-d0dc93efff4c",
        "colab": {
          "base_uri": "https://localhost:8080/",
          "height": 34
        }
      },
      "source": [
        "unbiased = UnbiasPmf(biased_pmf, label='unbiased')\n",
        "print('Unbiased mean', unbiased.Mean())"
      ],
      "execution_count": 0,
      "outputs": [
        {
          "output_type": "stream",
          "text": [
            "Unbiased mean 23.69230769230769\n"
          ],
          "name": "stdout"
        }
      ]
    },
    {
      "cell_type": "markdown",
      "metadata": {
        "id": "attBm1b0SYK0",
        "colab_type": "text"
      },
      "source": [
        "And plot the two distributions to confirm they are the same."
      ]
    },
    {
      "cell_type": "code",
      "metadata": {
        "id": "T1eQAmm4SYK1",
        "colab_type": "code",
        "outputId": "b4a432fd-ba1e-427a-c261-efd97c6b4cb3",
        "colab": {
          "base_uri": "https://localhost:8080/",
          "height": 283
        }
      },
      "source": [
        "thinkplot.PrePlot(2)\n",
        "thinkplot.Pmfs([pmf, unbiased])\n",
        "thinkplot.Config(xlabel='Class size', ylabel='PMF')"
      ],
      "execution_count": 0,
      "outputs": [
        {
          "output_type": "display_data",
          "data": {
            "image/png": "[encoded data removed]",
            "text/plain": [
              "<Figure size 432x288 with 1 Axes>"
            ]
          },
          "metadata": {
            "tags": []
          }
        }
      ]
    },
    {
      "cell_type": "markdown",
      "metadata": {
        "id": "gy9qmyoQSYK3",
        "colab_type": "text"
      },
      "source": [
        "### Pandas indexing\n",
        "\n",
        "Here's an example of a small DataFrame."
      ]
    },
    {
      "cell_type": "code",
      "metadata": {
        "id": "J7xciZwESYK3",
        "colab_type": "code",
        "outputId": "b9772d66-e381-4bf2-e8ae-85514068e31b",
        "colab": {
          "base_uri": "https://localhost:8080/",
          "height": 173
        }
      },
      "source": [
        "import numpy as np\n",
        "import pandas\n",
        "array = np.random.randn(4, 2)\n",
        "df = pandas.DataFrame(array)\n",
        "df"
      ],
      "execution_count": 0,
      "outputs": [
        {
          "output_type": "execute_result",
          "data": {
            "text/html": [
              "<div>\n",
              "<style scoped>\n",
              "    .dataframe tbody tr th:only-of-type {\n",
              "        vertical-align: middle;\n",
              "    }\n",
              "\n",
              "    .dataframe tbody tr th {\n",
              "        vertical-align: top;\n",
              "    }\n",
              "\n",
              "    .dataframe thead th {\n",
              "        text-align: right;\n",
              "    }\n",
              "</style>\n",
              "<table border=\"1\" class=\"dataframe\">\n",
              "  <thead>\n",
              "    <tr style=\"text-align: right;\">\n",
              "      <th></th>\n",
              "      <th>0</th>\n",
              "      <th>1</th>\n",
              "    </tr>\n",
              "  </thead>\n",
              "  <tbody>\n",
              "    <tr>\n",
              "      <th>0</th>\n",
              "      <td>1.178559</td>\n",
              "      <td>-0.735964</td>\n",
              "    </tr>\n",
              "    <tr>\n",
              "      <th>1</th>\n",
              "      <td>0.754140</td>\n",
              "      <td>-0.022953</td>\n",
              "    </tr>\n",
              "    <tr>\n",
              "      <th>2</th>\n",
              "      <td>0.005775</td>\n",
              "      <td>1.903699</td>\n",
              "    </tr>\n",
              "    <tr>\n",
              "      <th>3</th>\n",
              "      <td>-1.136745</td>\n",
              "      <td>1.480718</td>\n",
              "    </tr>\n",
              "  </tbody>\n",
              "</table>\n",
              "</div>"
            ],
            "text/plain": [
              "          0         1\n",
              "0  1.178559 -0.735964\n",
              "1  0.754140 -0.022953\n",
              "2  0.005775  1.903699\n",
              "3 -1.136745  1.480718"
            ]
          },
          "metadata": {
            "tags": []
          },
          "execution_count": 43
        }
      ]
    },
    {
      "cell_type": "markdown",
      "metadata": {
        "id": "xBJqUfq_SYK5",
        "colab_type": "text"
      },
      "source": [
        "We can specify column names when we create the DataFrame:"
      ]
    },
    {
      "cell_type": "code",
      "metadata": {
        "id": "zDgtFYoZSYK6",
        "colab_type": "code",
        "outputId": "b19d8a59-1a64-4d8a-b229-b2a973dbcb45",
        "colab": {
          "base_uri": "https://localhost:8080/",
          "height": 173
        }
      },
      "source": [
        "columns = ['A', 'B']\n",
        "df = pandas.DataFrame(array, columns=columns)\n",
        "df"
      ],
      "execution_count": 0,
      "outputs": [
        {
          "output_type": "execute_result",
          "data": {
            "text/html": [
              "<div>\n",
              "<style scoped>\n",
              "    .dataframe tbody tr th:only-of-type {\n",
              "        vertical-align: middle;\n",
              "    }\n",
              "\n",
              "    .dataframe tbody tr th {\n",
              "        vertical-align: top;\n",
              "    }\n",
              "\n",
              "    .dataframe thead th {\n",
              "        text-align: right;\n",
              "    }\n",
              "</style>\n",
              "<table border=\"1\" class=\"dataframe\">\n",
              "  <thead>\n",
              "    <tr style=\"text-align: right;\">\n",
              "      <th></th>\n",
              "      <th>A</th>\n",
              "      <th>B</th>\n",
              "    </tr>\n",
              "  </thead>\n",
              "  <tbody>\n",
              "    <tr>\n",
              "      <th>0</th>\n",
              "      <td>1.178559</td>\n",
              "      <td>-0.735964</td>\n",
              "    </tr>\n",
              "    <tr>\n",
              "      <th>1</th>\n",
              "      <td>0.754140</td>\n",
              "      <td>-0.022953</td>\n",
              "    </tr>\n",
              "    <tr>\n",
              "      <th>2</th>\n",
              "      <td>0.005775</td>\n",
              "      <td>1.903699</td>\n",
              "    </tr>\n",
              "    <tr>\n",
              "      <th>3</th>\n",
              "      <td>-1.136745</td>\n",
              "      <td>1.480718</td>\n",
              "    </tr>\n",
              "  </tbody>\n",
              "</table>\n",
              "</div>"
            ],
            "text/plain": [
              "          A         B\n",
              "0  1.178559 -0.735964\n",
              "1  0.754140 -0.022953\n",
              "2  0.005775  1.903699\n",
              "3 -1.136745  1.480718"
            ]
          },
          "metadata": {
            "tags": []
          },
          "execution_count": 44
        }
      ]
    },
    {
      "cell_type": "markdown",
      "metadata": {
        "id": "Zm2IBd8KSYK7",
        "colab_type": "text"
      },
      "source": [
        "We can also specify an index that contains labels for the rows."
      ]
    },
    {
      "cell_type": "code",
      "metadata": {
        "id": "Z2am2WjcSYK8",
        "colab_type": "code",
        "outputId": "3d4994a9-b705-4b05-da12-f666ba238cb3",
        "colab": {
          "base_uri": "https://localhost:8080/",
          "height": 173
        }
      },
      "source": [
        "index = ['a', 'b', 'c', 'd']\n",
        "df = pandas.DataFrame(array, columns=columns, index=index)\n",
        "df"
      ],
      "execution_count": 0,
      "outputs": [
        {
          "output_type": "execute_result",
          "data": {
            "text/html": [
              "<div>\n",
              "<style scoped>\n",
              "    .dataframe tbody tr th:only-of-type {\n",
              "        vertical-align: middle;\n",
              "    }\n",
              "\n",
              "    .dataframe tbody tr th {\n",
              "        vertical-align: top;\n",
              "    }\n",
              "\n",
              "    .dataframe thead th {\n",
              "        text-align: right;\n",
              "    }\n",
              "</style>\n",
              "<table border=\"1\" class=\"dataframe\">\n",
              "  <thead>\n",
              "    <tr style=\"text-align: right;\">\n",
              "      <th></th>\n",
              "      <th>A</th>\n",
              "      <th>B</th>\n",
              "    </tr>\n",
              "  </thead>\n",
              "  <tbody>\n",
              "    <tr>\n",
              "      <th>a</th>\n",
              "      <td>1.178559</td>\n",
              "      <td>-0.735964</td>\n",
              "    </tr>\n",
              "    <tr>\n",
              "      <th>b</th>\n",
              "      <td>0.754140</td>\n",
              "      <td>-0.022953</td>\n",
              "    </tr>\n",
              "    <tr>\n",
              "      <th>c</th>\n",
              "      <td>0.005775</td>\n",
              "      <td>1.903699</td>\n",
              "    </tr>\n",
              "    <tr>\n",
              "      <th>d</th>\n",
              "      <td>-1.136745</td>\n",
              "      <td>1.480718</td>\n",
              "    </tr>\n",
              "  </tbody>\n",
              "</table>\n",
              "</div>"
            ],
            "text/plain": [
              "          A         B\n",
              "a  1.178559 -0.735964\n",
              "b  0.754140 -0.022953\n",
              "c  0.005775  1.903699\n",
              "d -1.136745  1.480718"
            ]
          },
          "metadata": {
            "tags": []
          },
          "execution_count": 45
        }
      ]
    },
    {
      "cell_type": "markdown",
      "metadata": {
        "id": "JC4w3AICSYK-",
        "colab_type": "text"
      },
      "source": [
        "Normal indexing selects columns."
      ]
    },
    {
      "cell_type": "code",
      "metadata": {
        "id": "nmOe59PSSYK-",
        "colab_type": "code",
        "outputId": "27d7a465-3bb1-4c4a-f586-c08e69e56c2f",
        "colab": {
          "base_uri": "https://localhost:8080/",
          "height": 102
        }
      },
      "source": [
        "df['A']"
      ],
      "execution_count": 0,
      "outputs": [
        {
          "output_type": "execute_result",
          "data": {
            "text/plain": [
              "a    1.178559\n",
              "b    0.754140\n",
              "c    0.005775\n",
              "d   -1.136745\n",
              "Name: A, dtype: float64"
            ]
          },
          "metadata": {
            "tags": []
          },
          "execution_count": 46
        }
      ]
    },
    {
      "cell_type": "markdown",
      "metadata": {
        "id": "dXEllRWGSYK_",
        "colab_type": "text"
      },
      "source": [
        "We can use the `loc` attribute to select rows."
      ]
    },
    {
      "cell_type": "code",
      "metadata": {
        "id": "E2Nx_himSYLA",
        "colab_type": "code",
        "outputId": "2b8cede8-84ca-4fbf-8312-9ecdafe968a5",
        "colab": {
          "base_uri": "https://localhost:8080/",
          "height": 68
        }
      },
      "source": [
        "df.loc['a']"
      ],
      "execution_count": 0,
      "outputs": [
        {
          "output_type": "execute_result",
          "data": {
            "text/plain": [
              "A    1.178559\n",
              "B   -0.735964\n",
              "Name: a, dtype: float64"
            ]
          },
          "metadata": {
            "tags": []
          },
          "execution_count": 47
        }
      ]
    },
    {
      "cell_type": "markdown",
      "metadata": {
        "id": "TsLXkGqiSYLB",
        "colab_type": "text"
      },
      "source": [
        "If you don't want to use the row labels and prefer to access the rows using integer indices, you can use the `iloc` attribute:"
      ]
    },
    {
      "cell_type": "code",
      "metadata": {
        "id": "SNYoF_9mSYLC",
        "colab_type": "code",
        "outputId": "992107d4-c20c-4059-c0c2-bcb77bbe5c25",
        "colab": {
          "base_uri": "https://localhost:8080/",
          "height": 68
        }
      },
      "source": [
        "df.iloc[0]"
      ],
      "execution_count": 0,
      "outputs": [
        {
          "output_type": "execute_result",
          "data": {
            "text/plain": [
              "A    1.178559\n",
              "B   -0.735964\n",
              "Name: a, dtype: float64"
            ]
          },
          "metadata": {
            "tags": []
          },
          "execution_count": 48
        }
      ]
    },
    {
      "cell_type": "markdown",
      "metadata": {
        "id": "FRi9udV4SYLJ",
        "colab_type": "text"
      },
      "source": [
        "`loc` can also take a list of labels."
      ]
    },
    {
      "cell_type": "code",
      "metadata": {
        "id": "O9FA6zLVSYLK",
        "colab_type": "code",
        "outputId": "93bd5acd-3f8a-4561-8411-1ddd22216e8f",
        "colab": {
          "base_uri": "https://localhost:8080/",
          "height": 111
        }
      },
      "source": [
        "indices = ['a', 'c']\n",
        "df.loc[indices]"
      ],
      "execution_count": 0,
      "outputs": [
        {
          "output_type": "execute_result",
          "data": {
            "text/html": [
              "<div>\n",
              "<style scoped>\n",
              "    .dataframe tbody tr th:only-of-type {\n",
              "        vertical-align: middle;\n",
              "    }\n",
              "\n",
              "    .dataframe tbody tr th {\n",
              "        vertical-align: top;\n",
              "    }\n",
              "\n",
              "    .dataframe thead th {\n",
              "        text-align: right;\n",
              "    }\n",
              "</style>\n",
              "<table border=\"1\" class=\"dataframe\">\n",
              "  <thead>\n",
              "    <tr style=\"text-align: right;\">\n",
              "      <th></th>\n",
              "      <th>A</th>\n",
              "      <th>B</th>\n",
              "    </tr>\n",
              "  </thead>\n",
              "  <tbody>\n",
              "    <tr>\n",
              "      <th>a</th>\n",
              "      <td>1.178559</td>\n",
              "      <td>-0.735964</td>\n",
              "    </tr>\n",
              "    <tr>\n",
              "      <th>c</th>\n",
              "      <td>0.005775</td>\n",
              "      <td>1.903699</td>\n",
              "    </tr>\n",
              "  </tbody>\n",
              "</table>\n",
              "</div>"
            ],
            "text/plain": [
              "          A         B\n",
              "a  1.178559 -0.735964\n",
              "c  0.005775  1.903699"
            ]
          },
          "metadata": {
            "tags": []
          },
          "execution_count": 49
        }
      ]
    },
    {
      "cell_type": "markdown",
      "metadata": {
        "id": "PSBLNa6LSYLQ",
        "colab_type": "text"
      },
      "source": [
        "If you provide a slice of labels, `DataFrame` uses it to select rows."
      ]
    },
    {
      "cell_type": "code",
      "metadata": {
        "id": "k6FJbvddSYLS",
        "colab_type": "code",
        "outputId": "10f4f7a1-fb20-462e-8580-261d96ef33d4",
        "colab": {
          "base_uri": "https://localhost:8080/",
          "height": 142
        }
      },
      "source": [
        "df['a':'c']"
      ],
      "execution_count": 0,
      "outputs": [
        {
          "output_type": "execute_result",
          "data": {
            "text/html": [
              "<div>\n",
              "<style scoped>\n",
              "    .dataframe tbody tr th:only-of-type {\n",
              "        vertical-align: middle;\n",
              "    }\n",
              "\n",
              "    .dataframe tbody tr th {\n",
              "        vertical-align: top;\n",
              "    }\n",
              "\n",
              "    .dataframe thead th {\n",
              "        text-align: right;\n",
              "    }\n",
              "</style>\n",
              "<table border=\"1\" class=\"dataframe\">\n",
              "  <thead>\n",
              "    <tr style=\"text-align: right;\">\n",
              "      <th></th>\n",
              "      <th>A</th>\n",
              "      <th>B</th>\n",
              "    </tr>\n",
              "  </thead>\n",
              "  <tbody>\n",
              "    <tr>\n",
              "      <th>a</th>\n",
              "      <td>1.178559</td>\n",
              "      <td>-0.735964</td>\n",
              "    </tr>\n",
              "    <tr>\n",
              "      <th>b</th>\n",
              "      <td>0.754140</td>\n",
              "      <td>-0.022953</td>\n",
              "    </tr>\n",
              "    <tr>\n",
              "      <th>c</th>\n",
              "      <td>0.005775</td>\n",
              "      <td>1.903699</td>\n",
              "    </tr>\n",
              "  </tbody>\n",
              "</table>\n",
              "</div>"
            ],
            "text/plain": [
              "          A         B\n",
              "a  1.178559 -0.735964\n",
              "b  0.754140 -0.022953\n",
              "c  0.005775  1.903699"
            ]
          },
          "metadata": {
            "tags": []
          },
          "execution_count": 50
        }
      ]
    },
    {
      "cell_type": "markdown",
      "metadata": {
        "id": "fIVcYV9ASYLa",
        "colab_type": "text"
      },
      "source": [
        "If you provide a slice of integers, `DataFrame` selects rows by integer index."
      ]
    },
    {
      "cell_type": "code",
      "metadata": {
        "id": "rb2-t1W3SYLc",
        "colab_type": "code",
        "outputId": "2b787459-ec0c-4ea1-edfa-851fdaf2432b",
        "colab": {
          "base_uri": "https://localhost:8080/",
          "height": 111
        }
      },
      "source": [
        "df[0:2]"
      ],
      "execution_count": 0,
      "outputs": [
        {
          "output_type": "execute_result",
          "data": {
            "text/html": [
              "<div>\n",
              "<style scoped>\n",
              "    .dataframe tbody tr th:only-of-type {\n",
              "        vertical-align: middle;\n",
              "    }\n",
              "\n",
              "    .dataframe tbody tr th {\n",
              "        vertical-align: top;\n",
              "    }\n",
              "\n",
              "    .dataframe thead th {\n",
              "        text-align: right;\n",
              "    }\n",
              "</style>\n",
              "<table border=\"1\" class=\"dataframe\">\n",
              "  <thead>\n",
              "    <tr style=\"text-align: right;\">\n",
              "      <th></th>\n",
              "      <th>A</th>\n",
              "      <th>B</th>\n",
              "    </tr>\n",
              "  </thead>\n",
              "  <tbody>\n",
              "    <tr>\n",
              "      <th>a</th>\n",
              "      <td>1.178559</td>\n",
              "      <td>-0.735964</td>\n",
              "    </tr>\n",
              "    <tr>\n",
              "      <th>b</th>\n",
              "      <td>0.754140</td>\n",
              "      <td>-0.022953</td>\n",
              "    </tr>\n",
              "  </tbody>\n",
              "</table>\n",
              "</div>"
            ],
            "text/plain": [
              "          A         B\n",
              "a  1.178559 -0.735964\n",
              "b  0.754140 -0.022953"
            ]
          },
          "metadata": {
            "tags": []
          },
          "execution_count": 51
        }
      ]
    },
    {
      "cell_type": "markdown",
      "metadata": {
        "id": "meeoc-AdSYLd",
        "colab_type": "text"
      },
      "source": [
        "But notice that one method includes the last elements of the slice and one does not.\n",
        "\n",
        "In general, I recommend giving labels to the rows and names to the columns, and using them consistently."
      ]
    },
    {
      "cell_type": "markdown",
      "metadata": {
        "collapsed": true,
        "id": "F4vWfABTSYLd",
        "colab_type": "text"
      },
      "source": [
        "## Exercises"
      ]
    },
    {
      "cell_type": "markdown",
      "metadata": {
        "id": "BZnfg4C2SYLd",
        "colab_type": "text"
      },
      "source": [
        "**Exercise:** Something like the class size paradox appears if you survey children and ask how many children are in their family. Families with many children are more likely to appear in your sample, and families with no children have no chance to be in the sample.\n",
        "\n",
        "Use the NSFG respondent variable `numkdhh` to construct the actual distribution for the number of children under 18 in the respondents' households.\n",
        "\n",
        "Now compute the biased distribution we would see if we surveyed the children and asked them how many children under 18 (including themselves) are in their household.\n",
        "\n",
        "Plot the actual and biased distributions, and compute their means."
      ]
    },
    {
      "cell_type": "code",
      "metadata": {
        "id": "VoLyCO-BSYLe",
        "colab_type": "code",
        "colab": {}
      },
      "source": [
        "resp = nsfg.ReadFemResp()"
      ],
      "execution_count": 0,
      "outputs": []
    },
    {
      "cell_type": "code",
      "metadata": {
        "id": "jj3XjPZ3SYLg",
        "colab_type": "code",
        "outputId": "420c614f-2b5f-48ee-dcae-fa94a30c0572",
        "colab": {
          "base_uri": "https://localhost:8080/",
          "height": 136
        }
      },
      "source": [
        "# Solution goes here\n",
        "resp.numkdhh.value_counts()"
      ],
      "execution_count": 0,
      "outputs": [
        {
          "output_type": "execute_result",
          "data": {
            "text/plain": [
              "0    3563\n",
              "1    1636\n",
              "2    1500\n",
              "3     666\n",
              "4     196\n",
              "5      82\n",
              "Name: numkdhh, dtype: int64"
            ]
          },
          "metadata": {
            "tags": []
          },
          "execution_count": 63
        }
      ]
    },
    {
      "cell_type": "code",
      "metadata": {
        "id": "QpVhvwBlSYLl",
        "colab_type": "code",
        "colab": {}
      },
      "source": [
        "# Solution goes here"
      ],
      "execution_count": 0,
      "outputs": []
    },
    {
      "cell_type": "code",
      "metadata": {
        "id": "vBISLBQYSYLv",
        "colab_type": "code",
        "colab": {}
      },
      "source": [
        "# Solution goes here"
      ],
      "execution_count": 0,
      "outputs": []
    },
    {
      "cell_type": "code",
      "metadata": {
        "id": "WwroXgrhSYLx",
        "colab_type": "code",
        "colab": {}
      },
      "source": [
        "# Solution goes here"
      ],
      "execution_count": 0,
      "outputs": []
    },
    {
      "cell_type": "code",
      "metadata": {
        "id": "NbqIUQZpSYLy",
        "colab_type": "code",
        "colab": {}
      },
      "source": [
        "# Solution goes here"
      ],
      "execution_count": 0,
      "outputs": []
    },
    {
      "cell_type": "code",
      "metadata": {
        "id": "3dsJn9ZvSYLz",
        "colab_type": "code",
        "colab": {}
      },
      "source": [
        "# Solution goes here"
      ],
      "execution_count": 0,
      "outputs": []
    },
    {
      "cell_type": "markdown",
      "metadata": {
        "id": "OiXgZYQ0SYL1",
        "colab_type": "text"
      },
      "source": [
        "**Exercise:** I started this book with the question, \"Are first babies more likely to be late?\" To address it, I computed the difference in means between groups of babies, but I ignored the possibility that there might be a difference between first babies and others for the same woman.\n",
        "\n",
        "To address this version of the question, select respondents who have at least two live births and compute pairwise differences. Does this formulation of the question yield a different result?\n",
        "\n",
        "Hint: use `nsfg.MakePregMap`:"
      ]
    },
    {
      "cell_type": "code",
      "metadata": {
        "id": "v0MlyAWKSYL1",
        "colab_type": "code",
        "colab": {}
      },
      "source": [
        "live, firsts, others = first.MakeFrames()"
      ],
      "execution_count": 0,
      "outputs": []
    },
    {
      "cell_type": "code",
      "metadata": {
        "id": "ijNx91n8SYL7",
        "colab_type": "code",
        "colab": {}
      },
      "source": [
        "preg_map = nsfg.MakePregMap(live)"
      ],
      "execution_count": 0,
      "outputs": []
    },
    {
      "cell_type": "code",
      "metadata": {
        "id": "SYdfrwgpSYL9",
        "colab_type": "code",
        "colab": {}
      },
      "source": [
        "# Solution goes here"
      ],
      "execution_count": 0,
      "outputs": []
    },
    {
      "cell_type": "code",
      "metadata": {
        "id": "psnLVMXaSYL-",
        "colab_type": "code",
        "colab": {}
      },
      "source": [
        "# Solution goes here"
      ],
      "execution_count": 0,
      "outputs": []
    },
    {
      "cell_type": "code",
      "metadata": {
        "id": "xRp6f1RbSYMJ",
        "colab_type": "code",
        "colab": {}
      },
      "source": [
        "# Solution goes here"
      ],
      "execution_count": 0,
      "outputs": []
    },
    {
      "cell_type": "markdown",
      "metadata": {
        "id": "RYW8gsNfSYMK",
        "colab_type": "text"
      },
      "source": [
        "**Exercise:** In most foot races, everyone starts at the same time. If you are a fast runner, you usually pass a lot of people at the beginning of the race, but after a few miles everyone around you is going at the same speed.\n",
        "When I ran a long-distance (209 miles) relay race for the first time, I noticed an odd phenomenon: when I overtook another runner, I was usually much faster, and when another runner overtook me, he was usually much faster.\n",
        "\n",
        "At first I thought that the distribution of speeds might be bimodal; that is, there were many slow runners and many fast runners, but few at my speed.\n",
        "\n",
        "Then I realized that I was the victim of a bias similar to the effect of class size. The race was unusual in two ways: it used a staggered start, so teams started at different times; also, many teams included runners at different levels of ability.\n",
        "\n",
        "As a result, runners were spread out along the course with little relationship between speed and location. When I joined the race, the runners near me were (pretty much) a random sample of the runners in the race.\n",
        "\n",
        "So where does the bias come from? During my time on the course, the chance of overtaking a runner, or being overtaken, is proportional to the difference in our speeds. I am more likely to catch a slow runner, and more likely to be caught by a fast runner. But runners at the same speed are unlikely to see each other.\n",
        "\n",
        "Write a function called `ObservedPmf` that takes a `Pmf` representing the actual distribution of runners’ speeds, and the speed of a running observer, and returns a new `Pmf` representing the distribution of runners’ speeds as seen by the observer.\n",
        "\n",
        "To test your function, you can use `relay.py`, which reads the results from the James Joyce Ramble 10K in Dedham MA and converts the pace of each runner to mph.\n",
        "\n",
        "Compute the distribution of speeds you would observe if you ran a relay race at 7 mph with this group of runners."
      ]
    },
    {
      "cell_type": "code",
      "metadata": {
        "id": "E9xsD_-3SYML",
        "colab_type": "code",
        "colab": {}
      },
      "source": [
        "import relay\n",
        "\n",
        "results = relay.ReadResults()\n",
        "speeds = relay.GetSpeeds(results)\n",
        "speeds = relay.BinData(speeds, 3, 12, 100)"
      ],
      "execution_count": 0,
      "outputs": []
    },
    {
      "cell_type": "code",
      "metadata": {
        "id": "vJGLoWiQSYMN",
        "colab_type": "code",
        "colab": {}
      },
      "source": [
        "pmf = thinkstats2.Pmf(speeds, 'actual speeds')\n",
        "thinkplot.Pmf(pmf)\n",
        "thinkplot.Config(xlabel='Speed (mph)', ylabel='PMF')"
      ],
      "execution_count": 0,
      "outputs": []
    },
    {
      "cell_type": "code",
      "metadata": {
        "id": "ogbLbBt6SYMP",
        "colab_type": "code",
        "colab": {}
      },
      "source": [
        "# Solution goes here"
      ],
      "execution_count": 0,
      "outputs": []
    },
    {
      "cell_type": "code",
      "metadata": {
        "id": "ADuSgriFSYMQ",
        "colab_type": "code",
        "colab": {}
      },
      "source": [
        "# Solution goes here"
      ],
      "execution_count": 0,
      "outputs": []
    },
    {
      "cell_type": "code",
      "metadata": {
        "id": "4lg23ezQSYMR",
        "colab_type": "code",
        "colab": {}
      },
      "source": [
        ""
      ],
      "execution_count": 0,
      "outputs": []
    }
  ]
}